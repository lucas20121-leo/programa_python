{
  "nbformat": 4,
  "nbformat_minor": 0,
  "metadata": {
    "colab": {
      "name": "Untitled0.ipynb",
      "provenance": [],
      "authorship_tag": "ABX9TyMkeCx9dbL8Jm16N+QRuyB0",
      "include_colab_link": true
    },
    "kernelspec": {
      "name": "python3",
      "display_name": "Python 3"
    },
    "language_info": {
      "name": "python"
    }
  },
  "cells": [
    {
      "cell_type": "markdown",
      "metadata": {
        "id": "view-in-github",
        "colab_type": "text"
      },
      "source": [
        "<a href=\"https://colab.research.google.com/github/lucas20121-leo/programa_python/blob/main/Untitled0.ipynb\" target=\"_parent\"><img src=\"https://colab.research.google.com/assets/colab-badge.svg\" alt=\"Open In Colab\"/></a>"
      ]
    },
    {
      "cell_type": "code",
      "execution_count": 8,
      "metadata": {
        "id": "doszSHo2wHeP",
        "colab": {
          "base_uri": "https://localhost:8080/",
          "height": 130
        },
        "outputId": "e54fb38c-81e6-4fa9-e7e8-060857a016e3"
      },
      "outputs": [
        {
          "output_type": "error",
          "ename": "IndentationError",
          "evalue": "ignored",
          "traceback": [
            "\u001b[0;36m  File \u001b[0;32m\"<ipython-input-8-88f5621558b0>\"\u001b[0;36m, line \u001b[0;32m75\u001b[0m\n\u001b[0;31m    n = 9\u001b[0m\n\u001b[0m         ^\u001b[0m\n\u001b[0;31mIndentationError\u001b[0m\u001b[0;31m:\u001b[0m unindent does not match any outer indentation level\n"
          ]
        }
      ],
      "source": [
        "#Programa Python3 para encontrar eficiente\n",
        "# solução para a rede\n",
        " \n",
        "# número de casas e número\n",
        "# de tubos\n",
        "n = 0\n",
        "p = 0\n",
        " \n",
        "# Array rd armazena o\n",
        "# final vértice do tubo\n",
        "rd = [0]*1100\n",
        "# Array wd armazena o valor\n",
        "# de diâmetros entre dois tubos\n",
        "wt = [0]*1100\n",
        " \n",
        "# Array cd armazena o\n",
        "# fim de partida do tubo\n",
        "cd = [0]*1100\n",
        "\n",
        "# Lista a, b, c são usadas\n",
        "# para armazenar a saída final\n",
        "a = []\n",
        "b = []\n",
        "c = []\n",
        " \n",
        "ans = 0\n",
        "\n",
        "def dfs(w):\n",
        "    global ans\n",
        "    if (cd[w] == 0):\n",
        "        return w\n",
        "    if (wt[w] < ans):\n",
        "        ans = wt[w]\n",
        "    return dfs(cd[w])\n",
        "\n",
        "    # Função realizando cálculos.\n",
        "    def solve(arr):\n",
        "     global ans\n",
        "    i = 0\n",
        "    while (i < p):\n",
        "        q = arr[i][0]\n",
        "        h = arr[i][1]\n",
        "        t = arr[i][2]\n",
        "         \n",
        "        cd[q] = h\n",
        "        wt[q] = t\n",
        "        rd[h] = q\n",
        "        i += 1\n",
        "    a = []\n",
        "    b = []\n",
        "    c = []\n",
        "   \n",
        "    '''Se um cachimbo não tem vértice final\n",
        "    mas tem vértice inicial, ou seja, é\n",
        "    um tubo de saída, então precisamos\n",
        "    para iniciar o DFS com este vértice.'''\n",
        "    \n",
        "    for j in range(1, n + 1):\n",
        "        if (rd[j] == 0 and cd[j]):\n",
        "             \n",
        "            ans = 1000000000\n",
        "            w = dfs(j)\n",
        "\n",
        "     #Nós colocamos os detalhes do componente\n",
        "     # na matriz de saída final\n",
        "            a.append(j)\n",
        "            b.append(w)\n",
        "            c.append(ans)\n",
        "    print(len(a))\n",
        "    for j in range(len(a)):\n",
        "        print(a[j], b[j], c[j])\n",
        "\n",
        "       # Função do driver\n",
        "\n",
        "       n = 9\n",
        "       p = 6\n",
        " \n",
        "arr = [[7, 4, 98], [5, 9, 72], [4, 6, 10 ],\n",
        "        [2, 8, 22 ], [9, 7, 17], [3, 1, 66]]\n",
        " \n",
        "solve(arr)\n",
        "\n",
        " #Este código é contribuído por shubhamsingh10\n"
      ]
    }
  ]
}